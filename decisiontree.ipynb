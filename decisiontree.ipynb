{
 "cells": [
  {
   "cell_type": "code",
   "execution_count": 99,
   "metadata": {},
   "outputs": [],
   "source": [
    "import pandas as pd\n",
    "from sklearn.model_selection import train_test_split\n",
    "from sklearn.tree import DecisionTreeClassifier\n",
    "from sklearn.metrics import accuracy_score\n",
    "from sklearn.preprocessing import LabelEncoder\n",
    "from xgboost import XGBClassifier\n",
    "from sklearn.metrics import f1_score\n",
    "from sklearn.metrics import accuracy_score\n",
    "import numpy as np"
   ]
  },
  {
   "cell_type": "code",
   "execution_count": 100,
   "metadata": {},
   "outputs": [
    {
     "ename": "AttributeError",
     "evalue": "'int' object has no attribute 'split'",
     "output_type": "error",
     "traceback": [
      "\u001b[0;31m---------------------------------------------------------------------------\u001b[0m",
      "\u001b[0;31mAttributeError\u001b[0m                            Traceback (most recent call last)",
      "Cell \u001b[0;32mIn[100], line 33\u001b[0m\n\u001b[1;32m     31\u001b[0m \u001b[39mfor\u001b[39;00m i \u001b[39min\u001b[39;00m \u001b[39mrange\u001b[39m(\u001b[39m2\u001b[39m):\n\u001b[1;32m     32\u001b[0m     player_last_name \u001b[39m=\u001b[39m \u001b[39minput\u001b[39m(\u001b[39mf\u001b[39m\u001b[39m\"\u001b[39m\u001b[39mEnter the last name of player \u001b[39m\u001b[39m{\u001b[39;00mi\u001b[39m \u001b[39m\u001b[39m+\u001b[39m\u001b[39m \u001b[39m\u001b[39m1\u001b[39m\u001b[39m}\u001b[39;00m\u001b[39m: \u001b[39m\u001b[39m\"\u001b[39m)\n\u001b[0;32m---> 33\u001b[0m     matched_players \u001b[39m=\u001b[39m X[\u001b[39m'\u001b[39;49m\u001b[39mPlayer_1\u001b[39;49m\u001b[39m'\u001b[39;49m]\u001b[39m.\u001b[39;49mapply(\u001b[39mlambda\u001b[39;49;00m name: name\u001b[39m.\u001b[39;49msplit(\u001b[39m'\u001b[39;49m\u001b[39m \u001b[39;49m\u001b[39m'\u001b[39;49m)[\u001b[39m-\u001b[39;49m\u001b[39m1\u001b[39;49m] \u001b[39m==\u001b[39;49m player_last_name)\n\u001b[1;32m     35\u001b[0m     \u001b[39mif\u001b[39;00m matched_players\u001b[39m.\u001b[39many():\n\u001b[1;32m     36\u001b[0m         matched_player_index \u001b[39m=\u001b[39m matched_players\u001b[39m.\u001b[39midxmax()\n",
      "File \u001b[0;32m/opt/anaconda3/envs/atptennis/lib/python3.11/site-packages/pandas/core/series.py:4626\u001b[0m, in \u001b[0;36mSeries.apply\u001b[0;34m(self, func, convert_dtype, args, **kwargs)\u001b[0m\n\u001b[1;32m   4516\u001b[0m \u001b[39mdef\u001b[39;00m \u001b[39mapply\u001b[39m(\n\u001b[1;32m   4517\u001b[0m     \u001b[39mself\u001b[39m,\n\u001b[1;32m   4518\u001b[0m     func: AggFuncType,\n\u001b[0;32m   (...)\u001b[0m\n\u001b[1;32m   4521\u001b[0m     \u001b[39m*\u001b[39m\u001b[39m*\u001b[39mkwargs,\n\u001b[1;32m   4522\u001b[0m ) \u001b[39m-\u001b[39m\u001b[39m>\u001b[39m DataFrame \u001b[39m|\u001b[39m Series:\n\u001b[1;32m   4523\u001b[0m \u001b[39m    \u001b[39m\u001b[39m\"\"\"\u001b[39;00m\n\u001b[1;32m   4524\u001b[0m \u001b[39m    Invoke function on values of Series.\u001b[39;00m\n\u001b[1;32m   4525\u001b[0m \n\u001b[0;32m   (...)\u001b[0m\n\u001b[1;32m   4624\u001b[0m \u001b[39m    dtype: float64\u001b[39;00m\n\u001b[1;32m   4625\u001b[0m \u001b[39m    \"\"\"\u001b[39;00m\n\u001b[0;32m-> 4626\u001b[0m     \u001b[39mreturn\u001b[39;00m SeriesApply(\u001b[39mself\u001b[39;49m, func, convert_dtype, args, kwargs)\u001b[39m.\u001b[39;49mapply()\n",
      "File \u001b[0;32m/opt/anaconda3/envs/atptennis/lib/python3.11/site-packages/pandas/core/apply.py:1025\u001b[0m, in \u001b[0;36mSeriesApply.apply\u001b[0;34m(self)\u001b[0m\n\u001b[1;32m   1022\u001b[0m     \u001b[39mreturn\u001b[39;00m \u001b[39mself\u001b[39m\u001b[39m.\u001b[39mapply_str()\n\u001b[1;32m   1024\u001b[0m \u001b[39m# self.f is Callable\u001b[39;00m\n\u001b[0;32m-> 1025\u001b[0m \u001b[39mreturn\u001b[39;00m \u001b[39mself\u001b[39;49m\u001b[39m.\u001b[39;49mapply_standard()\n",
      "File \u001b[0;32m/opt/anaconda3/envs/atptennis/lib/python3.11/site-packages/pandas/core/apply.py:1076\u001b[0m, in \u001b[0;36mSeriesApply.apply_standard\u001b[0;34m(self)\u001b[0m\n\u001b[1;32m   1074\u001b[0m     \u001b[39melse\u001b[39;00m:\n\u001b[1;32m   1075\u001b[0m         values \u001b[39m=\u001b[39m obj\u001b[39m.\u001b[39mastype(\u001b[39mobject\u001b[39m)\u001b[39m.\u001b[39m_values\n\u001b[0;32m-> 1076\u001b[0m         mapped \u001b[39m=\u001b[39m lib\u001b[39m.\u001b[39;49mmap_infer(\n\u001b[1;32m   1077\u001b[0m             values,\n\u001b[1;32m   1078\u001b[0m             f,\n\u001b[1;32m   1079\u001b[0m             convert\u001b[39m=\u001b[39;49m\u001b[39mself\u001b[39;49m\u001b[39m.\u001b[39;49mconvert_dtype,\n\u001b[1;32m   1080\u001b[0m         )\n\u001b[1;32m   1082\u001b[0m \u001b[39mif\u001b[39;00m \u001b[39mlen\u001b[39m(mapped) \u001b[39mand\u001b[39;00m \u001b[39misinstance\u001b[39m(mapped[\u001b[39m0\u001b[39m], ABCSeries):\n\u001b[1;32m   1083\u001b[0m     \u001b[39m# GH#43986 Need to do list(mapped) in order to get treated as nested\u001b[39;00m\n\u001b[1;32m   1084\u001b[0m     \u001b[39m#  See also GH#25959 regarding EA support\u001b[39;00m\n\u001b[1;32m   1085\u001b[0m     \u001b[39mreturn\u001b[39;00m obj\u001b[39m.\u001b[39m_constructor_expanddim(\u001b[39mlist\u001b[39m(mapped), index\u001b[39m=\u001b[39mobj\u001b[39m.\u001b[39mindex)\n",
      "File \u001b[0;32m/opt/anaconda3/envs/atptennis/lib/python3.11/site-packages/pandas/_libs/lib.pyx:2834\u001b[0m, in \u001b[0;36mpandas._libs.lib.map_infer\u001b[0;34m()\u001b[0m\n",
      "Cell \u001b[0;32mIn[100], line 33\u001b[0m, in \u001b[0;36m<lambda>\u001b[0;34m(name)\u001b[0m\n\u001b[1;32m     31\u001b[0m \u001b[39mfor\u001b[39;00m i \u001b[39min\u001b[39;00m \u001b[39mrange\u001b[39m(\u001b[39m2\u001b[39m):\n\u001b[1;32m     32\u001b[0m     player_last_name \u001b[39m=\u001b[39m \u001b[39minput\u001b[39m(\u001b[39mf\u001b[39m\u001b[39m\"\u001b[39m\u001b[39mEnter the last name of player \u001b[39m\u001b[39m{\u001b[39;00mi\u001b[39m \u001b[39m\u001b[39m+\u001b[39m\u001b[39m \u001b[39m\u001b[39m1\u001b[39m\u001b[39m}\u001b[39;00m\u001b[39m: \u001b[39m\u001b[39m\"\u001b[39m)\n\u001b[0;32m---> 33\u001b[0m     matched_players \u001b[39m=\u001b[39m X[\u001b[39m'\u001b[39m\u001b[39mPlayer_1\u001b[39m\u001b[39m'\u001b[39m]\u001b[39m.\u001b[39mapply(\u001b[39mlambda\u001b[39;00m name: name\u001b[39m.\u001b[39;49msplit(\u001b[39m'\u001b[39m\u001b[39m \u001b[39m\u001b[39m'\u001b[39m)[\u001b[39m-\u001b[39m\u001b[39m1\u001b[39m] \u001b[39m==\u001b[39m player_last_name)\n\u001b[1;32m     35\u001b[0m     \u001b[39mif\u001b[39;00m matched_players\u001b[39m.\u001b[39many():\n\u001b[1;32m     36\u001b[0m         matched_player_index \u001b[39m=\u001b[39m matched_players\u001b[39m.\u001b[39midxmax()\n",
      "\u001b[0;31mAttributeError\u001b[0m: 'int' object has no attribute 'split'"
     ]
    }
   ],
   "source": [
    "import pandas as pd\n",
    "from sklearn.model_selection import train_test_split\n",
    "from sklearn.tree import DecisionTreeClassifier\n",
    "from sklearn.preprocessing import LabelEncoder\n",
    "\n",
    "df = pd.read_csv('complete_tennis.csv')\n",
    "df = df.drop('Unnamed: 0', axis=1)\n",
    "\n",
    "X = df.drop('Winner', axis=1)\n",
    "y = df['Winner']\n",
    "\n",
    "le_player_1 = LabelEncoder()\n",
    "X['Player_1'] = [name.split(' ')[0] for name in X['Player_1']]\n",
    "X['Player_1'] = le_player_1.fit_transform(X['Player_1'])\n",
    "\n",
    "# Encode 'Player_2' column\n",
    "le_player_2 = LabelEncoder()\n",
    "X['Player_2'] = [name.split(' ')[0] for name in X['Player_2']]\n",
    "X['Player_2'] = le_player_2.fit_transform(X['Player_2'])\n",
    "\n",
    "le = LabelEncoder()\n",
    "y = le.fit_transform(y)\n",
    "\n",
    "columns_to_encode = ['Player_1', 'Player_2', 'Winner']  # Specify the column names to encode\n",
    "encoders = {'Player_1': le_player_1, 'Player_2': le_player_2}\n",
    "\n",
    "X_train, X_test, y_train, y_test = train_test_split(X, y, test_size=0.2, random_state=42)\n",
    "clf = DecisionTreeClassifier()\n",
    "\n",
    "input_players = []\n",
    "for i in range(2):\n",
    "    player_last_name = input(f\"Enter the last name of player {i + 1}: \")\n",
    "    matched_players = X['Player_1'].apply(lambda name: name.split(' ')[-1] == player_last_name)\n",
    "\n",
    "    if matched_players.any():\n",
    "        matched_player_index = matched_players.idxmax()\n",
    "        input_players.append(X.loc[matched_player_index, 'Player_1'])\n",
    "    else:\n",
    "        input_players.append(f\"Unknown {player_last_name}\")\n",
    "\n",
    "# Print the input player names\n",
    "print(\"Input players:\")\n",
    "for player in input_players:\n",
    "    print(player)\n",
    "\n",
    "encoded_input_players = []\n",
    "for column_name in ['Player_1', 'Player_2']:\n",
    "    le = encoders[column_name]\n",
    "    encoded_input_players.append(le.transform([input_players.pop(0)]))\n",
    "\n",
    "# Make predictions for the input sample\n",
    "input_sample = encoded_input_players\n",
    "prediction = clf.predict(input_sample)[0]\n",
    "\n",
    "# Decode the predicted label\n",
    "decoded_prediction = le.inverse_transform([prediction])\n",
    "\n",
    "# Print the predicted outcome\n",
    "print(\"Predicted outcome:\")\n",
    "print(decoded_prediction[0])\n"
   ]
  },
  {
   "cell_type": "code",
   "execution_count": null,
   "metadata": {},
   "outputs": [],
   "source": [
    "df = pd.read_csv('complete_tennis.csv')"
   ]
  },
  {
   "cell_type": "code",
   "execution_count": null,
   "metadata": {},
   "outputs": [],
   "source": [
    "df = df.drop('Unnamed: 0', axis=1)"
   ]
  },
  {
   "cell_type": "code",
   "execution_count": null,
   "metadata": {},
   "outputs": [],
   "source": [
    "X = df.drop('Winner', axis=1)\n",
    "y = df['Winner']"
   ]
  },
  {
   "cell_type": "code",
   "execution_count": null,
   "metadata": {},
   "outputs": [],
   "source": [
    "columns_to_encode = ['Player_1', 'Player_2', 'Winner']  # Specify the column names to encode"
   ]
  },
  {
   "cell_type": "code",
   "execution_count": null,
   "metadata": {},
   "outputs": [],
   "source": [
    "encoders = {'Player_1': le_player_1, 'Player_2': le_player_2}"
   ]
  },
  {
   "cell_type": "code",
   "execution_count": null,
   "metadata": {},
   "outputs": [],
   "source": []
  },
  {
   "cell_type": "code",
   "execution_count": null,
   "metadata": {},
   "outputs": [],
   "source": [
    "\n",
    "le_player_1 = LabelEncoder()\n",
    "X['Player_1'] = [name.split(' ')[0] for name in X['Player_1']]\n",
    "X['Player_1'] = le_player_1.fit_transform(X['Player_1'])\n",
    "\n",
    "# Encode 'Player_2' column\n",
    "le_player_2 = LabelEncoder()\n",
    "X['Player_2'] = [name.split(' ')[0] for name in X['Player_2']]\n",
    "X['Player_2'] = le_player_2.fit_transform(X['Player_2'])\n"
   ]
  },
  {
   "cell_type": "code",
   "execution_count": null,
   "metadata": {},
   "outputs": [],
   "source": [
    "le = LabelEncoder()\n",
    "y = le.fit_transform(y)"
   ]
  },
  {
   "cell_type": "code",
   "execution_count": null,
   "metadata": {},
   "outputs": [],
   "source": []
  },
  {
   "cell_type": "code",
   "execution_count": null,
   "metadata": {},
   "outputs": [],
   "source": [
    "X_train, X_test, y_train, y_test = train_test_split(X, y, test_size=0.2, random_state=42)"
   ]
  },
  {
   "cell_type": "code",
   "execution_count": null,
   "metadata": {},
   "outputs": [],
   "source": [
    "clf = DecisionTreeClassifier()"
   ]
  },
  {
   "cell_type": "code",
   "execution_count": null,
   "metadata": {},
   "outputs": [],
   "source": [
    "input_players = []\n",
    "for i in range(2):\n",
    "    player_last_name = input(f\"Enter the last name of player {i + 1}: \")\n",
    "    matched_players = [row[0].split(' ')[-1] == player_last_name for row in X]\n",
    "\n",
    "    if any(matched_players):\n",
    "        matched_player_index = matched_players.index(True)\n",
    "        input_players.append(X[matched_player_index][0])\n",
    "    else:\n",
    "        input_players.append(f\"Unknown {player_last_name}\")\n",
    "\n",
    "# Print the input player names\n",
    "print(\"Input players:\")\n",
    "for player in input_players:\n",
    "    print(player)"
   ]
  },
  {
   "cell_type": "code",
   "execution_count": null,
   "metadata": {},
   "outputs": [],
   "source": [
    "encoded_input_players = []\n",
    "for column_name in ['Player_1', 'Player_2']:\n",
    "    le = encoders[column_name]\n",
    "    encoded_input_players.append(le.transform([input_players.pop(0)]))\n"
   ]
  }
 ],
 "metadata": {
  "kernelspec": {
   "display_name": "atptennis",
   "language": "python",
   "name": "python3"
  },
  "language_info": {
   "codemirror_mode": {
    "name": "ipython",
    "version": 3
   },
   "file_extension": ".py",
   "mimetype": "text/x-python",
   "name": "python",
   "nbconvert_exporter": "python",
   "pygments_lexer": "ipython3",
   "version": "3.11.3"
  },
  "orig_nbformat": 4
 },
 "nbformat": 4,
 "nbformat_minor": 2
}

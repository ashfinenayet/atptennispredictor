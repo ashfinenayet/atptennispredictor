{
 "cells": [
  {
   "cell_type": "code",
   "execution_count": 1,
   "metadata": {},
   "outputs": [
    {
     "name": "stdout",
     "output_type": "stream",
     "text": [
      "Intel MKL WARNING: Support of Intel(R) Streaming SIMD Extensions 4.2 (Intel(R) SSE4.2) enabled only processors has been deprecated. Intel oneAPI Math Kernel Library 2025.0 will require Intel(R) Advanced Vector Extensions (Intel(R) AVX) instructions.\n",
      "Intel MKL WARNING: Support of Intel(R) Streaming SIMD Extensions 4.2 (Intel(R) SSE4.2) enabled only processors has been deprecated. Intel oneAPI Math Kernel Library 2025.0 will require Intel(R) Advanced Vector Extensions (Intel(R) AVX) instructions.\n"
     ]
    }
   ],
   "source": [
    "import pandas as pd\n",
    "from sklearn.model_selection import train_test_split\n",
    "from sklearn.tree import DecisionTreeClassifier\n",
    "from sklearn.metrics import accuracy_score"
   ]
  },
  {
   "cell_type": "code",
   "execution_count": 2,
   "metadata": {},
   "outputs": [],
   "source": [
    "data = pd.read_csv('atp_tennis.csv')"
   ]
  },
  {
   "cell_type": "code",
   "execution_count": 3,
   "metadata": {},
   "outputs": [],
   "source": [
    "data = data.drop(['Tournament', 'Date', 'Series'], axis=1)"
   ]
  },
  {
   "cell_type": "code",
   "execution_count": 4,
   "metadata": {},
   "outputs": [],
   "source": [
    "dummy_cols = pd.get_dummies(data[['Court', 'Surface', 'Round']])"
   ]
  },
  {
   "cell_type": "code",
   "execution_count": 5,
   "metadata": {},
   "outputs": [],
   "source": [
    "df = pd.concat([data, dummy_cols], axis=1)"
   ]
  },
  {
   "cell_type": "code",
   "execution_count": 6,
   "metadata": {},
   "outputs": [],
   "source": [
    "df = df.drop(['Surface', 'Court', 'Round'], axis=1)"
   ]
  },
  {
   "cell_type": "code",
   "execution_count": 7,
   "metadata": {},
   "outputs": [],
   "source": [
    "scores_df = df['score']"
   ]
  },
  {
   "cell_type": "code",
   "execution_count": 8,
   "metadata": {},
   "outputs": [],
   "source": [
    "scores_df = scores_df.reset_index(drop=True)"
   ]
  },
  {
   "cell_type": "code",
   "execution_count": 9,
   "metadata": {},
   "outputs": [],
   "source": [
    "scores_df = scores_df.to_frame(name='score')"
   ]
  },
  {
   "cell_type": "code",
   "execution_count": 10,
   "metadata": {},
   "outputs": [],
   "source": [
    "#def split_scores(row):\n",
    "#    scores = row['score'].split()\n",
    "#    num_rounds = len(scores)\n",
    "#    if num_rounds == 2:\n",
    "#        player1_scores, player2_scores = scores[0].split('-'), scores[1].split('-')\n",
    "#        if len(player1_scores) < 2:\n",
    "#            player1_scores = [0, player1_scores[0]]\n",
    "#        if len(player2_scores) < 2:\n",
    "#            player2_scores = [0, player2_scores[0]]\n",
    " #   elif num_rounds == 3:\n",
    "  #      player1_scores, player2_scores, _ = [score.split('-') for score in scores]\n",
    "   #     if len(player1_scores) < 2:\n",
    "#        player1_scores = [0, player1_scores[0], player1_scores[1]]\n",
    "#     3   if len(player2_scores) < 2:\n",
    "#            player2_scores = [0, player2_scores[0], player2_scores[1]]\n",
    "#    else:\n",
    "#        return row\n",
    "    \n",
    "#    new_cols = ['player{}_round{}'.format(player_num, round_num) for player_num in range(1, 3) for round_num in range(1, num_rounds + 1)]\n",
    "#    return pd.concat([pd.Series(player1_scores + player2_scores), row.drop('score')]).rename(lambda x: new_cols[x - 1] if x < num_rounds * 2 else x)\n"
   ]
  },
  {
   "cell_type": "code",
   "execution_count": 11,
   "metadata": {},
   "outputs": [],
   "source": [
    "# create example DataFrame\n",
    "\n",
    "# apply function to each row and concatenate the resulting DataFrame with the original\n",
    "#scores_df = scores_df.apply(split_scores, axis=1)\n",
    "\n",
    "# fill missing values with empty string\n",
    "#scores_df = scores_df[['player1_round1', 'player1_round2', 'player1_round3', 'player2_round1', 'player2_round2', 'player2_round3']].fillna('')\n"
   ]
  },
  {
   "cell_type": "code",
   "execution_count": 12,
   "metadata": {},
   "outputs": [],
   "source": [
    "scores_df[['player1_round1', 'player2_round1', 'player1_round2', 'player2_round2', 'player1_round3', 'player2_round3']] = scores_df['score'].str.split('-', expand=True).fillna('')"
   ]
  },
  {
   "cell_type": "code",
   "execution_count": 13,
   "metadata": {},
   "outputs": [],
   "source": [
    "#scores_df[['player2_round1', 'player1_roundtwo']] = scores_df['player2_round1'].str.split(n=1, expand=True)"
   ]
  },
  {
   "cell_type": "code",
   "execution_count": 14,
   "metadata": {},
   "outputs": [],
   "source": [
    "\n",
    "def split_columns_on_whitespace(df):\n",
    "    \"\"\"\n",
    "    Splits every column of a Pandas DataFrame on whitespace.\n",
    "    \"\"\"\n",
    "    for col in df.columns:\n",
    "        new_cols = df[col].str.split(expand=True)\n",
    "        new_cols.columns = [f\"{col}_{i+1}\" for i in range(len(new_cols.columns))]\n",
    "        df = pd.concat([df, new_cols], axis=1)\n",
    "    df = df.drop(columns=df.columns[:len(df.columns)//2])\n",
    "    return df\n"
   ]
  },
  {
   "cell_type": "code",
   "execution_count": 15,
   "metadata": {},
   "outputs": [],
   "source": [
    "new_score_df = split_columns_on_whitespace(scores_df)"
   ]
  },
  {
   "cell_type": "code",
   "execution_count": 16,
   "metadata": {},
   "outputs": [],
   "source": [
    "new_score_df = new_score_df.drop('score_5', axis=1)"
   ]
  },
  {
   "cell_type": "code",
   "execution_count": 17,
   "metadata": {},
   "outputs": [],
   "source": [
    "new_score_df = new_score_df.fillna(0)"
   ]
  },
  {
   "cell_type": "code",
   "execution_count": 18,
   "metadata": {},
   "outputs": [
    {
     "data": {
      "text/plain": [
       "['player1_round1_1',\n",
       " 'player2_round1_1',\n",
       " 'player2_round1_2',\n",
       " 'player1_round2_1',\n",
       " 'player1_round2_2',\n",
       " 'player2_round2_1',\n",
       " 'player2_round2_2',\n",
       " 'player1_round3_1',\n",
       " 'player1_round3_2',\n",
       " 'player2_round3_1']"
      ]
     },
     "execution_count": 18,
     "metadata": {},
     "output_type": "execute_result"
    }
   ],
   "source": [
    "list(new_score_df.columns)"
   ]
  },
  {
   "cell_type": "code",
   "execution_count": 19,
   "metadata": {},
   "outputs": [],
   "source": [
    "new_score_df['player1_round1'] = new_score_df['player1_round1_1']\n",
    "\n",
    "new_score_df['player2_round1'] = new_score_df['player2_round1_1']\n",
    "new_score_df['player1_round2'] = new_score_df['player2_round1_2']\n",
    "new_score_df['player2_round2'] = new_score_df['player1_round2_1']\n",
    "new_score_df['player1_round3'] = new_score_df['player1_round2_2']                               \n",
    "new_score_df['player2_round3'] = new_score_df['player2_round2_1']\n",
    "new_score_df['player1_round4'] = new_score_df['player2_round2_2']\n",
    "new_score_df['player2_round4'] = new_score_df['player1_round3_1']\n",
    "new_score_df['player1_round5'] = new_score_df['player1_round3_2']\n",
    "new_score_df['player2_round5'] = new_score_df['player2_round3_1']"
   ]
  },
  {
   "cell_type": "code",
   "execution_count": 20,
   "metadata": {},
   "outputs": [],
   "source": [
    "new_score_df = new_score_df.drop(['player1_round1_1', 'player2_round1_1','player1_round2_1', 'player2_round1_2', 'player1_round2_2','player2_round2_1','player2_round2_2','player1_round3_1','player1_round3_2','player2_round3_1'], axis=1)"
   ]
  },
  {
   "cell_type": "code",
   "execution_count": 21,
   "metadata": {},
   "outputs": [],
   "source": [
    "df = pd.concat([df, new_score_df], axis=1)"
   ]
  },
  {
   "cell_type": "code",
   "execution_count": 22,
   "metadata": {},
   "outputs": [],
   "source": [
    "df = df.drop('score', axis=1)"
   ]
  },
  {
   "cell_type": "code",
   "execution_count": 23,
   "metadata": {},
   "outputs": [],
   "source": [
    "df['Player_1'] = df['Player_1'].str.split(' ').str[0]\n",
    "df['Player_2'] = df['Player_2'].str.split(' ').str[0]\n",
    "df['Winner'] = df['Winner'].str.split(' ').str[0]"
   ]
  },
  {
   "cell_type": "code",
   "execution_count": 24,
   "metadata": {},
   "outputs": [],
   "source": [
    "df.to_csv('complete_tennis.csv')"
   ]
  }
 ],
 "metadata": {
  "kernelspec": {
   "display_name": "atptennis",
   "language": "python",
   "name": "python3"
  },
  "language_info": {
   "codemirror_mode": {
    "name": "ipython",
    "version": 3
   },
   "file_extension": ".py",
   "mimetype": "text/x-python",
   "name": "python",
   "nbconvert_exporter": "python",
   "pygments_lexer": "ipython3",
   "version": "3.11.3"
  },
  "orig_nbformat": 4
 },
 "nbformat": 4,
 "nbformat_minor": 2
}
